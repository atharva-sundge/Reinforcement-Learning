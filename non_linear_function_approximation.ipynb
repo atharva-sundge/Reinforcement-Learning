{
 "cells": [
  {
   "cell_type": "markdown",
   "metadata": {},
   "source": [
    "Importing required Libraries\n"
   ]
  },
  {
   "cell_type": "code",
   "execution_count": 1,
   "metadata": {},
   "outputs": [
    {
     "name": "stderr",
     "output_type": "stream",
     "text": [
      "c:\\Users\\Asus\\anaconda3\\envs\\rl\\lib\\site-packages\\tqdm\\auto.py:21: TqdmWarning: IProgress not found. Please update jupyter and ipywidgets. See https://ipywidgets.readthedocs.io/en/stable/user_install.html\n",
      "  from .autonotebook import tqdm as notebook_tqdm\n"
     ]
    }
   ],
   "source": [
    "import numpy as np\n",
    "\n",
    "import gym\n",
    "\n",
    "import torch\n",
    "import torch.nn as nn\n",
    "import torch.optim as optim\n",
    "\n",
    "from sklearn.preprocessing import StandardScaler\n",
    "\n",
    "import matplotlib.pyplot as plt\n"
   ]
  },
  {
   "cell_type": "markdown",
   "metadata": {},
   "source": [
    "Model Architecture"
   ]
  },
  {
   "cell_type": "code",
   "execution_count": 2,
   "metadata": {},
   "outputs": [],
   "source": [
    "# neural network model\n",
    "class QNetwork(nn.Module):\n",
    "    def __init__(self, state_size, action_size, hidden_size=64):\n",
    "        super(QNetwork, self).__init__()\n",
    "        self.fc1 = nn.Linear(state_size, hidden_size)\n",
    "        self.fc2 = nn.Linear(hidden_size, hidden_size)\n",
    "        self.fc3 = nn.Linear(hidden_size, hidden_size)\n",
    "        self.fc4 = nn.Linear(hidden_size, action_size)\n",
    "\n",
    "    def forward(self, state):\n",
    "        x = torch.relu(self.fc1(state))\n",
    "        x = torch.relu(self.fc2(x))\n",
    "        x = torch.relu(self.fc3(x))\n",
    "        return self.fc4(x)  \n"
   ]
  },
  {
   "cell_type": "markdown",
   "metadata": {},
   "source": [
    "Action selection step\n"
   ]
  },
  {
   "cell_type": "code",
   "execution_count": 3,
   "metadata": {},
   "outputs": [],
   "source": [
    "def action_selection_policy(q_network, state, epsilon, n_actions):\n",
    "    # Exploration step below\n",
    "\n",
    "    if np.random.random() < epsilon:\n",
    "        final_action = np.random.choice(n_actions)\n",
    "        return final_action  \n",
    "    \n",
    "\n",
    "    # Exploitation step\n",
    "    else:\n",
    "        # converting tensor \n",
    "        state_tensor = torch.FloatTensor(state).unsqueeze(0)  \n",
    "\n",
    "        q_values = q_network(state_tensor)\n",
    "\n",
    "        final_action2 = torch.argmax(q_values).item()  \n",
    "        return final_action2"
   ]
  },
  {
   "cell_type": "markdown",
   "metadata": {},
   "source": [
    "Normalizing the data"
   ]
  },
  {
   "cell_type": "code",
   "execution_count": 4,
   "metadata": {},
   "outputs": [],
   "source": [
    "def scale_state(state, scaler):\n",
    "\n",
    "    # states are 2 dimentional\n",
    "    state = np.array(state).reshape(1, -1)  \n",
    "    \n",
    "    transformed = scaler.transform(state)[0]  \n",
    "    return transformed\n"
   ]
  },
  {
   "cell_type": "markdown",
   "metadata": {},
   "source": [
    "For Non-linear function approximation, SARSA is selected."
   ]
  },
  {
   "cell_type": "markdown",
   "metadata": {},
   "source": [
    "SARSA function"
   ]
  },
  {
   "cell_type": "code",
   "execution_count": 5,
   "metadata": {},
   "outputs": [],
   "source": [
    "def sarsa_model(env, episodes, alpha, gamma, epsilon):\n",
    "\n",
    "    # State space and actions space\n",
    "    state_size = env.observation_space.shape[0]\n",
    "    action_size = env.action_space.n\n",
    "\n",
    "    # Initializing the model\n",
    "    q_network = QNetwork(state_size, action_size)\n",
    "\n",
    "    #Optimizer, here Adam is used\n",
    "    optimizer = optim.Adam(q_network.parameters(), lr=alpha)\n",
    "\n",
    "    # Error calculation\n",
    "    criterion = nn.MSELoss()  \n",
    "\n",
    "    reward_episode = []\n",
    "\n",
    "    # Standardizing the state\n",
    "    scaler = StandardScaler()\n",
    "    scaler.fit([env.observation_space.low, env.observation_space.high])\n",
    "\n",
    "    for episode in range(episodes):\n",
    "        state, _ = env.reset()\n",
    "        state = scale_state(state, scaler)\n",
    "        done = False\n",
    "        total_reward = 0\n",
    "\n",
    "\n",
    "        # selecting the action\n",
    "        action = action_selection_policy(q_network, state, epsilon, action_size)\n",
    "\n",
    "        while not done:\n",
    "            next_state, reward, done, _, _ = env.step(action)\n",
    "            next_state = scale_state(next_state, scaler)\n",
    "\n",
    "            # Next action selection\n",
    "            next_action = action_selection_policy(q_network, next_state, epsilon, action_size)\n",
    "\n",
    "            # converting state to tensor\n",
    "            state_tensor = torch.FloatTensor(state).unsqueeze(0) \n",
    "\n",
    "            # Q-value\n",
    "            q_values = q_network(state_tensor)\n",
    "\n",
    "            with torch.no_grad():\n",
    "                next_state_tensor = torch.FloatTensor(next_state).unsqueeze(0)\n",
    "                next_q_values = q_network(next_state_tensor)\n",
    "\n",
    "            q_current = q_values[0, action]\n",
    "            \n",
    "            if not done:\n",
    "                q_next = next_q_values[0, next_action] \n",
    "            else: \n",
    "                0\n",
    "\n",
    "            td_target = reward + gamma * q_next\n",
    "\n",
    "            # Converting target to float\n",
    "            if isinstance(td_target, float):\n",
    "                td_target = torch.tensor(td_target).float()  \n",
    "\n",
    "            # Loss calculation\n",
    "            loss = criterion(q_current, td_target)  \n",
    "\n",
    "            optimizer.zero_grad()\n",
    "            loss.backward()\n",
    "            optimizer.step()\n",
    "\n",
    "            state, action = next_state, next_action\n",
    "            total_reward += reward\n",
    "\n",
    "        reward_episode.append(total_reward)\n",
    "\n",
    "        # Print progress every 100 episodes\n",
    "        if episode % 100 == 0:\n",
    "            print(f\"Episode {episode}/{episodes} complete.\")\n",
    "\n",
    "    return q_network, reward_episode"
   ]
  },
  {
   "cell_type": "markdown",
   "metadata": {},
   "source": [
    "Cartpole-v1 Environment"
   ]
  },
  {
   "cell_type": "code",
   "execution_count": 6,
   "metadata": {},
   "outputs": [],
   "source": [
    "env = gym.make(\"CartPole-v1\")  "
   ]
  },
  {
   "cell_type": "markdown",
   "metadata": {},
   "source": [
    "Hyperparameter"
   ]
  },
  {
   "cell_type": "code",
   "execution_count": 7,
   "metadata": {},
   "outputs": [],
   "source": [
    "#Epoches/episodes\n",
    "episode = 800\n",
    "\n",
    "#Learning Rate\n",
    "alpha = 0.1\n",
    "\n",
    "# Discount Factor\n",
    "gamma = 0.99 \n",
    "\n",
    "# Exploration Rate\n",
    "epsilon = 0.2 \n",
    "\n"
   ]
  },
  {
   "cell_type": "markdown",
   "metadata": {},
   "source": [
    "Final training"
   ]
  },
  {
   "cell_type": "code",
   "execution_count": 8,
   "metadata": {},
   "outputs": [
    {
     "name": "stdout",
     "output_type": "stream",
     "text": [
      "Episode 0/800 complete.\n",
      "Episode 100/800 complete.\n",
      "Episode 200/800 complete.\n",
      "Episode 300/800 complete.\n",
      "Episode 400/800 complete.\n",
      "Episode 500/800 complete.\n",
      "Episode 600/800 complete.\n",
      "Episode 700/800 complete.\n"
     ]
    }
   ],
   "source": [
    "q_network, episode_reward = sarsa_model(env, episode, alpha, gamma, epsilon)"
   ]
  },
  {
   "cell_type": "markdown",
   "metadata": {},
   "source": [
    "Code for ploting average reward vs episodes"
   ]
  },
  {
   "cell_type": "code",
   "execution_count": 9,
   "metadata": {},
   "outputs": [
    {
     "data": {
      "image/png": "[encoded data removed]",
      "text/plain": [
       "<Figure size 640x480 with 1 Axes>"
      ]
     },
     "metadata": {},
     "output_type": "display_data"
    }
   ],
   "source": [
    "def avg_return_plot(episode_reward, w_size=100):\n",
    "    \n",
    "    avg_return = np.convolve(episode_reward, np.ones(w_size) / w_size, mode='valid')\n",
    "    plt.plot(avg_return)\n",
    "    plt.xlabel(' Episode')\n",
    "    plt.ylabel('Average Return')\n",
    "    plt.title(f'Average Return vs Episode')\n",
    "\n",
    "    plt.grid(True)\n",
    "    plt.show()\n",
    "\n",
    "# Plotting the results after training\n",
    "avg_return_plot(episode_reward)"
   ]
  },
  {
   "cell_type": "code",
   "execution_count": null,
   "metadata": {},
   "outputs": [],
   "source": []
  },
  {
   "cell_type": "code",
   "execution_count": null,
   "metadata": {},
   "outputs": [],
   "source": []
  },
  {
   "cell_type": "code",
   "execution_count": null,
   "metadata": {},
   "outputs": [],
   "source": []
  },
  {
   "cell_type": "code",
   "execution_count": null,
   "metadata": {},
   "outputs": [],
   "source": []
  },
  {
   "cell_type": "code",
   "execution_count": null,
   "metadata": {},
   "outputs": [],
   "source": []
  },
  {
   "cell_type": "code",
   "execution_count": null,
   "metadata": {},
   "outputs": [],
   "source": []
  }
 ],
 "metadata": {
  "kernelspec": {
   "display_name": "rl",
   "language": "python",
   "name": "python3"
  },
  "language_info": {
   "codemirror_mode": {
    "name": "ipython",
    "version": 3
   },
   "file_extension": ".py",
   "mimetype": "text/x-python",
   "name": "python",
   "nbconvert_exporter": "python",
   "pygments_lexer": "ipython3",
   "version": "3.8.20"
  }
 },
 "nbformat": 4,
 "nbformat_minor": 2
}
