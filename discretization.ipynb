{
 "cells": [
  {
   "cell_type": "code",
   "execution_count": 2,
   "metadata": {},
   "outputs": [],
   "source": [
    "import numpy as np\n",
    "\n",
    "import gym\n",
    "\n",
    "import matplotlib.pyplot as plt\n"
   ]
  },
  {
   "cell_type": "markdown",
   "metadata": {},
   "source": [
    "Number of bins\n"
   ]
  },
  {
   "cell_type": "code",
   "execution_count": 4,
   "metadata": {},
   "outputs": [],
   "source": [
    "n_bins = 10\n"
   ]
  },
  {
   "cell_type": "markdown",
   "metadata": {},
   "source": [
    "State variable range: Upper limit and lower limit"
   ]
  },
  {
   "cell_type": "code",
   "execution_count": 6,
   "metadata": {},
   "outputs": [],
   "source": [
    "cart_position_bounds = [-2.4, 2.4]\n",
    "cart_velocity_bounds = [ -3.0, 3.0]\n",
    "pole_angle_bounds = [-0.2, 0.2]\n",
    "pole_velocity_bounds = [-2.0, 2.0]"
   ]
  },
  {
   "cell_type": "markdown",
   "metadata": {},
   "source": [
    "Diving each state in bins"
   ]
  },
  {
   "cell_type": "code",
   "execution_count": null,
   "metadata": {},
   "outputs": [],
   "source": [
    "cart_position_bins = np.linspace(cart_position_bounds[0], cart_position_bounds[1], n_bins)\n",
    "cart_velocity_bins = np.linspace(cart_velocity_bounds[0], cart_velocity_bounds[1], n_bins)\n",
    "pole_angle_bins = np.linspace(pole_angle_bounds[0], pole_angle_bounds[1], n_bins)\n",
    "pole_velocity_bins = np.linspace(pole_velocity_bounds[0], pole_velocity_bounds[1], n_bins)\n"
   ]
  },
  {
   "cell_type": "markdown",
   "metadata": {},
   "source": [
    "Finally assigning the each continous value to corresponding bin"
   ]
  },
  {
   "cell_type": "code",
   "execution_count": 3,
   "metadata": {},
   "outputs": [],
   "source": [
    "# Discretize \n",
    "def discretize_state(state):\n",
    "    cart_position, cart_velocity, pole_angle, pole_velocity = state\n",
    "\n",
    "    cart_position_discrete = np.digitize(cart_position, cart_position_bins) - 1\n",
    "    cart_velocity_discrete = np.digitize(cart_velocity, cart_velocity_bins) - 1\n",
    "    pole_angle_discrete = np.digitize(pole_angle, pole_angle_bins) - 1\n",
    "    pole_velocity_discrete = np.digitize(pole_velocity, pole_velocity_bins) - 1\n",
    "\n",
    "    return (cart_position_discrete, cart_velocity_discrete, pole_angle_discrete, pole_velocity_discrete)"
   ]
  },
  {
   "cell_type": "code",
   "execution_count": null,
   "metadata": {},
   "outputs": [],
   "source": []
  },
  {
   "cell_type": "code",
   "execution_count": null,
   "metadata": {},
   "outputs": [],
   "source": []
  },
  {
   "cell_type": "code",
   "execution_count": null,
   "metadata": {},
   "outputs": [],
   "source": []
  },
  {
   "cell_type": "code",
   "execution_count": null,
   "metadata": {},
   "outputs": [],
   "source": []
  },
  {
   "cell_type": "code",
   "execution_count": null,
   "metadata": {},
   "outputs": [],
   "source": []
  }
 ],
 "metadata": {
  "kernelspec": {
   "display_name": "rl",
   "language": "python",
   "name": "python3"
  },
  "language_info": {
   "codemirror_mode": {
    "name": "ipython",
    "version": 3
   },
   "file_extension": ".py",
   "mimetype": "text/x-python",
   "name": "python",
   "nbconvert_exporter": "python",
   "pygments_lexer": "ipython3",
   "version": "3.8.20"
  }
 },
 "nbformat": 4,
 "nbformat_minor": 2
}
